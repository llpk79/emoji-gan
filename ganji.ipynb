{
 "cells": [
  {
   "cell_type": "markdown",
   "metadata": {},
   "source": [
    "# Emoji generator using GAN.\n",
    "Addapted from Keras Minimal Viable GAN"
   ]
  },
  {
   "cell_type": "code",
   "execution_count": 1,
   "metadata": {},
   "outputs": [
    {
     "name": "stderr",
     "output_type": "stream",
     "text": [
      "Using TensorFlow backend.\n"
     ]
    }
   ],
   "source": [
    "import imageio\n",
    "import os\n",
    "import numpy as np\n",
    "import matplotlib.pyplot as plt\n",
    "import tensorflow as tf\n",
    "\n",
    "from tqdm import tqdm  # progress bars\n",
    "\n",
    "# Building on Keras\n",
    "from keras.layers import Input\n",
    "from keras.models import Model, Sequential\n",
    "from keras.layers.core import Dense, Dropout\n",
    "from keras.layers.advanced_activations import LeakyReLU\n",
    "from keras.datasets import fashion_mnist\n",
    "from tensorflow.keras.optimizers import Adam\n",
    "from keras import initializers\n",
    "\n",
    "np.random.seed(10)\n",
    "random_dim = 100\n"
   ]
  },
  {
   "cell_type": "code",
   "execution_count": 2,
   "metadata": {},
   "outputs": [],
   "source": [
    "callback = [tf.keras.callbacks.ModelCheckpoint(filepath='/tmp/keras-ckpt')]"
   ]
  },
  {
   "cell_type": "code",
   "execution_count": 3,
   "metadata": {},
   "outputs": [],
   "source": [
    "# os.environ['TF_CONFIG'] = json.dumps({\n",
    "#     'cluster': {\n",
    "#         'worker': [\"localhost:12345\", \"localhost:23456\"]\n",
    "#     },\n",
    "#     'task': {'type': 'worker', 'index': 0}\n",
    "# })\n"
   ]
  },
  {
   "cell_type": "code",
   "execution_count": 4,
   "metadata": {},
   "outputs": [],
   "source": [
    "gpus = tf.config.experimental.list_physical_devices('GPU')\n",
    "# if gpus:\n",
    "#     try:\n",
    "#         # Currently, memory growth needs to be the same across GPUs\n",
    "#         for gpu in gpus:\n",
    "#             tf.config.experimental.set_memory_growth(gpu, True)\n",
    "#         logical_gpus = tf.config.experimental.list_logical_devices('GPU')\n",
    "#         print(len(gpus), \"Physical GPUs,\", len(logical_gpus), \"Logical GPUs\")\n",
    "#     except RuntimeError as e:\n",
    "#     # Memory growth must be set before GPUs have been initialized\n",
    "#         print(e)"
   ]
  },
  {
   "cell_type": "code",
   "execution_count": 5,
   "metadata": {},
   "outputs": [
    {
     "data": {
      "text/plain": [
       "[PhysicalDevice(name='/physical_device:GPU:0', device_type='GPU'),\n",
       " PhysicalDevice(name='/physical_device:GPU:1', device_type='GPU')]"
      ]
     },
     "execution_count": 5,
     "metadata": {},
     "output_type": "execute_result"
    }
   ],
   "source": [
    "gpus"
   ]
  },
  {
   "cell_type": "code",
   "execution_count": 60,
   "metadata": {},
   "outputs": [],
   "source": [
    "def discriminator_batch(generator, batch_size):\n",
    "    x = 0\n",
    "    fake_images, images = [], []\n",
    "    while True:\n",
    "        try:\n",
    "            files = iter(os.listdir('people_emoji_final'))\n",
    "            while x < batch_size:\n",
    "                file = next(files)\n",
    "                noise = np.random.normal(0, 1, size=[batch_size, random_dim])\n",
    "                fake_image = generator.predict(noise)\n",
    "                fake_image.resize((3888,))\n",
    "                fake_images.append(fake_image)\n",
    "\n",
    "                image = np.array(imageio.imread(os.path.join('people_emoji_final', file)))\n",
    "                image = image / 255\n",
    "                image.resize((3888,))\n",
    "                images.append(image)\n",
    "                x += 1\n",
    "        except StopIteration:\n",
    "            continue\n",
    "        imgs = np.concatenate([images, fake_images])\n",
    "        zeros = np.zeros(batch_size * 2)\n",
    "        zeros[:batch_size] = 0.9\n",
    "        yield imgs, zeros\n",
    "\n",
    "def generator_batch(batch_size):\n",
    "    x = 0\n",
    "    images = []\n",
    "    while True:\n",
    "        try:\n",
    "            files = iter(os.listdir('people_emoji_final'))\n",
    "            noise = np.random.normal(0, 1, size=[batch_size, random_dim])\n",
    "            while x < batch_size:\n",
    "                file = next(files)\n",
    "                image = np.array(imageio.imread(os.path.join('people_emoji_final', file)))\n",
    "                image = image / 255\n",
    "                image.resize((3888,))\n",
    "                images.append(image)\n",
    "                x += 1\n",
    "        except StopIteration:\n",
    "            continue\n",
    "        yield noise, np.array(images)\n",
    "\n",
    "def gan_batch(batch_size):\n",
    "    while True:\n",
    "        noise = np.random.normal(0, 1, size=[batch_size, random_dim])\n",
    "        ones = np.ones(batch_size)\n",
    "        yield noise, ones\n",
    "\n",
    "def discriminator_pretrain_batch(batch_size):\n",
    "    images = []\n",
    "    x = 0\n",
    "    while True:\n",
    "        try:\n",
    "            noise = np.random.normal(0, 1, size=[batch_size, 3888])\n",
    "            files = iter(os.listdir('people_emoji_final'))\n",
    "            while x < batch_size:\n",
    "                file = next(files)\n",
    "                image = np.array(imageio.imread(os.path.join('people_emoji_final', file)))\n",
    "                image = image / 255\n",
    "                image.resize((3888,))\n",
    "                images.append(image)\n",
    "                x += 1\n",
    "        except StopIteration:\n",
    "            continue\n",
    "        y_dis = np.zeros(2 * batch_size)\n",
    "        y_dis[:batch_size] = 0.9\n",
    "        X = np.concatenate([images, noise])\n",
    "        yield X, y_dis\n",
    "\n"
   ]
  },
  {
   "cell_type": "code",
   "execution_count": 27,
   "metadata": {
    "colab": {},
    "colab_type": "code",
    "id": "_FDog5HivCwV"
   },
   "outputs": [],
   "source": [
    "def get_discriminator(optimizer):\n",
    "# optimizer = Adam(lr=0.0002, beta_1=0.5)\n",
    "# strategy = tf.distribute.MirroredStrategy()\n",
    "# with strategy.scope():\n",
    "\n",
    "    discriminator = Sequential()\n",
    "    discriminator.add(Dense(1024, input_dim=3888,\n",
    "                            kernel_initializer=initializers.RandomNormal(stddev=0.02)))\n",
    "    discriminator.add(LeakyReLU(0.2))\n",
    "    discriminator.add(Dropout(0.3))\n",
    "\n",
    "    discriminator.add(Dense(1024))\n",
    "    discriminator.add(LeakyReLU(0.2))\n",
    "    discriminator.add(Dropout(0.3))\n",
    "\n",
    "    discriminator.add(Dense(512))\n",
    "    discriminator.add(LeakyReLU(0.2))\n",
    "    discriminator.add(Dropout(0.3))\n",
    "\n",
    "    discriminator.add(Dense(256))\n",
    "    discriminator.add(LeakyReLU(0.2))\n",
    "    discriminator.add(Dropout(0.3))\n",
    "\n",
    "    discriminator.add(Dense(1, activation='sigmoid'))\n",
    "    discriminator.compile(loss='binary_crossentropy', optimizer=optimizer)\n",
    "    return discriminator\n",
    "\n",
    "def get_generator(optimizer):\n",
    "    generator = Sequential()\n",
    "    generator.add(Dense(256, input_dim=random_dim,\n",
    "                        kernel_initializer=initializers.RandomNormal(stddev=0.02)))\n",
    "    generator.add(LeakyReLU(0.2))\n",
    "\n",
    "    generator.add(Dense(524))\n",
    "    generator.add(LeakyReLU(0.2))\n",
    "\n",
    "    generator.add(Dense(1048))\n",
    "    generator.add(LeakyReLU(0.2))\n",
    "\n",
    "    generator.add(Dense(3888, activation='sigmoid'))\n",
    "    generator.compile(loss='categorical_crossentropy', optimizer=optimizer)\n",
    "    return generator\n",
    "\n",
    "def get_gan_network(discriminator, random_dim, generator, optimizer):\n",
    "    # We initially set trainable to False since we only want to train either the \n",
    "    # generator or discriminator at a time\n",
    "    discriminator.trainable = False\n",
    "    # gan input (noise) will be 100-dimensional vectors\n",
    "    gan_input = Input(shape=(random_dim,))\n",
    "    # the output of the generator (an image)\n",
    "    x = generator(gan_input)\n",
    "    # get the output of the discriminator (probability if the image is real/not)\n",
    "    gan_output = discriminator(x)\n",
    "    gan = Model(inputs=gan_input, outputs=gan_output)\n",
    "    gan.compile(loss='binary_crossentropy', optimizer=optimizer)\n",
    "    return gan\n",
    "\n"
   ]
  },
  {
   "cell_type": "code",
   "execution_count": 28,
   "metadata": {
    "colab": {},
    "colab_type": "code",
    "id": "wUqjeZ1T-FXr"
   },
   "outputs": [],
   "source": [
    " def plot_generated_images(epoch, generator, examples=100, dim=(10, 10),\n",
    "                           figsize=(15, 15)):\n",
    "    noise = np.random.normal(0, 1, size=[examples, random_dim])\n",
    "    generated_images = generator.predict(noise)\n",
    "    generated_images = generated_images.reshape(examples, 36, 36, 3)\n",
    " \n",
    "    plt.figure(figsize=figsize)\n",
    "    for i in range(10):\n",
    "        plt.subplot(dim[0], dim[1], i+1)\n",
    "        plt.imshow((generated_images[i] * 255).astype(np.uint8), interpolation='nearest')\n",
    "        plt.axis('off')\n",
    "    plt.tight_layout()\n",
    "#     if epoch == 25000:\n",
    "    plt.savefig('gan_generated_image_epoch_%d.png' % epoch)"
   ]
  },
  {
   "cell_type": "code",
   "execution_count": 73,
   "metadata": {
    "colab": {
     "base_uri": "https://localhost:8080/",
     "height": 1000
    },
    "colab_type": "code",
    "id": "YKsazCE-vFLy",
    "outputId": "b1126338-f10f-4fa2-d652-021e9d4e44af"
   },
   "outputs": [],
   "source": [
    "def train(epochs=1, batch_size=32):\n",
    "    # Get the training and testing data\n",
    "    # Split the training data into batches of size 128\n",
    "    batch_count = len(os.listdir('people_emoji_final')) // batch_size\n",
    " \n",
    "    # Build our GAN netowrk\n",
    "    adam = Adam(lr=0.0002, beta_1=0.5)\n",
    "    with tf.device('/gpu:0'):\n",
    "        gen_batch = generator_batch(batch_size)\n",
    "        g_batch = gan_batch(batch_size)\n",
    "        generator = get_generator(adam)\n",
    "    with tf.device('/gpu:1'):\n",
    "        disp_batch = discriminator_pretrain_batch(batch_size)\n",
    "        discriminator = get_discriminator(adam)\n",
    "    with tf.device('/cpu:0'):\n",
    "        dis_batch = discriminator_batch(generator, batch_size)\n",
    "        gan = get_gan_network(discriminator, random_dim, generator, adam)\n",
    "\n",
    "\n",
    "    # Pre-train generator and discriminator.\n",
    "    for e in tqdm(range(1, 5000 + 1)):\n",
    "        # Generator.\n",
    "        generator.train_on_batch(*next(gen_batch))\n",
    "#                                 epochs=epochs,\n",
    "#                                 steps_per_epoch=batch_size,\n",
    "#                                 use_multiprocessing=True,\n",
    "#                                 workers=1,\n",
    "#                                 verbose=2)\n",
    "\n",
    "        # Discriminator.\n",
    "        discriminator.trainable = True\n",
    "        discriminator.train_on_batch(*next(disp_batch))\n",
    "#                                     epochs=epochs,\n",
    "#                                     steps_per_epoch=batch_size,\n",
    "#                                     use_multiprocessing=True,\n",
    "#                                     workers=1,\n",
    "#                                     verbose=2)\n",
    "\n",
    "\n",
    "\n",
    "    for e in tqdm(range(1, epochs + 1)):\n",
    "        for _ in range(batch_count):\n",
    "            # Train discriminator\n",
    "            discriminator.trainable = True\n",
    "            discriminator.train_on_batch(*next(dis_batch))\n",
    "#                                         epochs=epochs,\n",
    "#                                         steps_per_epoch=1,\n",
    "#                                         use_multiprocessing=True,\n",
    "#                                         workers=1,\n",
    "#                                         verbose=2)\n",
    "\n",
    "            # Train generator\n",
    "            discriminator.trainable = False\n",
    "            gan.train_on_batch(*next(g_batch))\n",
    "#                               epochs=epochs,\n",
    "#                               steps_per_epoch=1,\n",
    "#                               use_multiprocessing=True,\n",
    "#                               workers=1,\n",
    "#                               verbose=2)\n",
    "\n",
    "        if e % 5000 == 0:\n",
    "            plot_generated_images(e, generator)\n",
    "    return generator"
   ]
  },
  {
   "cell_type": "code",
   "execution_count": 74,
   "metadata": {},
   "outputs": [],
   "source": [
    "epochs = 50"
   ]
  },
  {
   "cell_type": "code",
   "execution_count": 75,
   "metadata": {},
   "outputs": [
    {
     "name": "stderr",
     "output_type": "stream",
     "text": [
      "100%|██████████| 5000/5000 [02:04<00:00, 40.22it/s]\n",
      "100%|██████████| 50/50 [02:17<00:00,  2.75s/it]\n"
     ]
    }
   ],
   "source": [
    "generator = train(epochs)"
   ]
  },
  {
   "cell_type": "code",
   "execution_count": 76,
   "metadata": {
    "colab": {
     "base_uri": "https://localhost:8080/",
     "height": 319
    },
    "colab_type": "code",
    "id": "1zh-c1dN-B0W",
    "outputId": "09960567-0fb3-4948-a36d-ea892af2b7e2"
   },
   "outputs": [
    {
     "data": {
      "image/png": "[encoded data removed]",
      "text/plain": [
       "<Figure size 1080x1080 with 10 Axes>"
      ]
     },
     "metadata": {
      "needs_background": "light"
     },
     "output_type": "display_data"
    }
   ],
   "source": [
    "plot_generated_images(epochs, generator)"
   ]
  },
  {
   "cell_type": "code",
   "execution_count": 77,
   "metadata": {
    "colab": {
     "base_uri": "https://localhost:8080/",
     "height": 416
    },
    "colab_type": "code",
    "id": "gWU1TuEanDko",
    "outputId": "12f4da23-90cd-40bf-e3f9-d0380809002f"
   },
   "outputs": [
    {
     "data": {
      "text/plain": [
       "(-0.5, 35.5, 35.5, -0.5)"
      ]
     },
     "execution_count": 77,
     "metadata": {},
     "output_type": "execute_result"
    },
    {
     "data": {
      "image/png": "[encoded data removed]",
      "text/plain": [
       "<Figure size 90x60 with 1 Axes>"
      ]
     },
     "metadata": {
      "needs_background": "light"
     },
     "output_type": "display_data"
    }
   ],
   "source": [
    "noise = np.random.normal(0, 1, size=[1, random_dim])\n",
    "x = generator.predict(noise)\n",
    "fig = plt.figure(dpi=15)\n",
    "ax = fig.gca()\n",
    "ax.imshow((x.reshape(36, 36, 3) * 255).astype(np.uint8), interpolation='nearest')\n",
    "ax.axis('off')\n"
   ]
  },
  {
   "cell_type": "code",
   "execution_count": 67,
   "metadata": {
    "colab": {},
    "colab_type": "code",
    "id": "R-tpifolnDh3"
   },
   "outputs": [],
   "source": [
    "from keras.models import load_model"
   ]
  },
  {
   "cell_type": "code",
   "execution_count": null,
   "metadata": {},
   "outputs": [],
   "source": [
    "generator.save('people_generator_200k.h5')"
   ]
  },
  {
   "cell_type": "code",
   "execution_count": null,
   "metadata": {},
   "outputs": [],
   "source": [
    "del generator"
   ]
  },
  {
   "cell_type": "code",
   "execution_count": null,
   "metadata": {},
   "outputs": [],
   "source": [
    "generator = load_model('people_generator_200k.h5')"
   ]
  },
  {
   "cell_type": "code",
   "execution_count": null,
   "metadata": {
    "colab": {
     "base_uri": "https://localhost:8080/",
     "height": 416
    },
    "colab_type": "code",
    "id": "gWU1TuEanDko",
    "outputId": "12f4da23-90cd-40bf-e3f9-d0380809002f"
   },
   "outputs": [],
   "source": [
    "noise = np.random.normal(0, 1, size=[1, random_dim])\n",
    "x = generator.predict(noise)\n",
    "fig = plt.figure(dpi=15)\n",
    "ax = fig.gca()\n",
    "ax.imshow((x.reshape(36, 36, 3) * 255).astype(np.uint8), interpolation='nearest')\n",
    "ax.axis('off')\n"
   ]
  },
  {
   "cell_type": "code",
   "execution_count": null,
   "metadata": {},
   "outputs": [],
   "source": []
  },
  {
   "cell_type": "code",
   "execution_count": null,
   "metadata": {},
   "outputs": [],
   "source": []
  },
  {
   "cell_type": "code",
   "execution_count": null,
   "metadata": {},
   "outputs": [],
   "source": []
  },
  {
   "cell_type": "code",
   "execution_count": null,
   "metadata": {},
   "outputs": [],
   "source": []
  }
 ],
 "metadata": {
  "kernelspec": {
   "display_name": "Python 3",
   "language": "python",
   "name": "python3"
  },
  "language_info": {
   "codemirror_mode": {
    "name": "ipython",
    "version": 3
   },
   "file_extension": ".py",
   "mimetype": "text/x-python",
   "name": "python",
   "nbconvert_exporter": "python",
   "pygments_lexer": "ipython3",
   "version": "3.5.3"
  }
 },
 "nbformat": 4,
 "nbformat_minor": 4
}
