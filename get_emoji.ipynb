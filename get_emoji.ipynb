{
 "cells": [
  {
   "cell_type": "markdown",
   "metadata": {},
   "source": [
    "# Get base64 representations of emojis, convert to .png files."
   ]
  },
  {
   "cell_type": "code",
   "execution_count": 1,
   "metadata": {},
   "outputs": [],
   "source": [
    "import base64\n",
    "import imageio\n",
    "import os\n",
    "import numpy as np\n",
    "from IPython.display import Image as ipyimage\n",
    "import matplotlib.pyplot as plt\n",
    "import requests\n",
    "\n",
    "from PIL import Image\n",
    "from bs4 import BeautifulSoup as Soup"
   ]
  },
  {
   "cell_type": "code",
   "execution_count": 2,
   "metadata": {},
   "outputs": [],
   "source": [
    "# All of the emojis.\n",
    "emoji_URL = \"https://unicode.org/emoji/charts/full-emoji-list.html\"  # lines 1 - 116\n",
    "person_URL = \"https://unicode.org/emoji/charts/full-emoji-modifiers.html\"  # lines 196 - 1160. whoa."
   ]
  },
  {
   "cell_type": "code",
   "execution_count": 3,
   "metadata": {
    "colab": {},
    "colab_type": "code",
    "id": "BacSZo9Ih054"
   },
   "outputs": [],
   "source": [
    "# strip transparency dimension (because RGB channels are crazy in transparencent spaces)\n",
    "def strip_transparency(i):\n",
    "    px_transparent = i[:, :, 3] < 0.1\n",
    "    i[px_transparent, 0:3] = 1\n",
    "    i = i[:, :, 0:3]\n",
    "    return i"
   ]
  },
  {
   "cell_type": "code",
   "execution_count": 4,
   "metadata": {},
   "outputs": [],
   "source": [
    "def get_raw_emoji(URL):\n",
    "    request = requests.get(URL)\n",
    "    soup = Soup(request.text, 'html.parser')\n",
    "    tags = soup.find_all(name='tr',)\n",
    "    keepers = [tag for tag in tags if tag.td and int(tag.td.text) in range(1, 117)]\n",
    "    keeper_soup = [keeper.find_all(name='img') for keeper in keepers]\n",
    "    all_pngs = []\n",
    "    for png_list in keeper_soup:\n",
    "        for png in png_list:\n",
    "            all_pngs.append(png)\n",
    "    png64_encoded = [png64_['src'].split(',')[1].encode() for png64_ in all_pngs]\n",
    "    png64_decoded =[base64.decodebytes(png64) for png64 in png64_encoded]\n",
    "    for i, png64 in enumerate(png64_decoded):\n",
    "        with open(f'emoji_{i}.png', 'wb') as f:\n",
    "            f.write(png64)"
   ]
  },
  {
   "cell_type": "code",
   "execution_count": 33,
   "metadata": {},
   "outputs": [],
   "source": [
    "def strip_emoji():\n",
    "    for emoji in os.listdir('.'):\n",
    "#         with open(emoji, 'rb') as f:\n",
    "#             image_file = f.read()\n",
    "        try:\n",
    "            image = np.asarray(imageio.imread(emoji))\n",
    "            stripped_face = strip_transparency(image)\n",
    "        except IndexError as e:\n",
    "            print(e)\n",
    "            print(emoji)\n",
    "            continue\n",
    "        array_face = np.asarray(stripped_face)\n",
    "        imageio.imwrite(f'../stripped_emoji/{emoji}', array_face, 'png')"
   ]
  },
  {
   "cell_type": "code",
   "execution_count": 34,
   "metadata": {},
   "outputs": [],
   "source": [
    "def resize_emoji():\n",
    "    for emoji in os.listdir('../stripped_emoji'):\n",
    "        image = Image.open(f'../stripped_emoji/{emoji}')\n",
    "        resized_image = image.resize((36, 36), Image.ANTIALIAS)\n",
    "        np_image = np.asarray(resized_image)\n",
    "        imageio.imwrite(f'../final_emoji/{emoji}', np_image, 'png')"
   ]
  },
  {
   "cell_type": "code",
   "execution_count": 35,
   "metadata": {},
   "outputs": [],
   "source": [
    "get_raw_emoji(emoji_URL)"
   ]
  },
  {
   "cell_type": "code",
   "execution_count": 36,
   "metadata": {},
   "outputs": [
    {
     "name": "stdout",
     "output_type": "stream",
     "text": [
      "too many indices for array\n",
      "emoji_790.png\n",
      "too many indices for array\n",
      "emoji_788.png\n"
     ]
    }
   ],
   "source": [
    "strip_emoji()"
   ]
  },
  {
   "cell_type": "code",
   "execution_count": 37,
   "metadata": {},
   "outputs": [],
   "source": [
    "resize_emoji()"
   ]
  },
  {
   "cell_type": "code",
   "execution_count": 38,
   "metadata": {},
   "outputs": [],
   "source": [
    "new_emoji = imageio.imread('../final_emoji/emoji_104.png')"
   ]
  },
  {
   "cell_type": "code",
   "execution_count": 39,
   "metadata": {},
   "outputs": [
    {
     "data": {
      "text/plain": [
       "(-0.5, 35.5, 35.5, -0.5)"
      ]
     },
     "execution_count": 39,
     "metadata": {},
     "output_type": "execute_result"
    },
    {
     "data": {
      "image/png": "[encoded data removed]",
      "text/plain": [
       "<Figure size 90x60 with 1 Axes>"
      ]
     },
     "metadata": {
      "needs_background": "light"
     },
     "output_type": "display_data"
    }
   ],
   "source": [
    "fig = plt.figure(dpi=15)\n",
    "ax = fig.gca()\n",
    "ax.imshow(new_emoji, interpolation='nearest')\n",
    "ax.axis('off')\n"
   ]
  },
  {
   "cell_type": "code",
   "execution_count": null,
   "metadata": {},
   "outputs": [],
   "source": []
  }
 ],
 "metadata": {
  "kernelspec": {
   "display_name": "Python (U4-S3-DNN)",
   "language": "python",
   "name": "u4-s3-dnn"
  },
  "language_info": {
   "codemirror_mode": {
    "name": "ipython",
    "version": 3
   },
   "file_extension": ".py",
   "mimetype": "text/x-python",
   "name": "python",
   "nbconvert_exporter": "python",
   "pygments_lexer": "ipython3",
   "version": "3.7.3"
  }
 },
 "nbformat": 4,
 "nbformat_minor": 4
}
